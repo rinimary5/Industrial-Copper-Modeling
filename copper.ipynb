{
 "cells": [
  {
   "cell_type": "code",
   "execution_count": 1,
   "id": "4ce17576",
   "metadata": {},
   "outputs": [],
   "source": [
    "import pandas as pd\n",
    "import numpy as np\n",
    "import warnings\n",
    "warnings.filterwarnings(\"ignore\")\n",
    "import matplotlib.pyplot as plt\n",
    "import seaborn as sns"
   ]
  },
  {
   "cell_type": "code",
   "execution_count": 2,
   "id": "87f88d6a",
   "metadata": {},
   "outputs": [],
   "source": [
    "df=pd.read_csv(r\"C:/Users/Faith/Downloads/Copper_Set.xlsx - Result 1.csv\")"
   ]
  },
  {
   "cell_type": "code",
   "execution_count": 3,
   "id": "9465d4a0",
   "metadata": {
    "scrolled": true
   },
   "outputs": [
    {
     "data": {
      "text/html": [
       "<div>\n",
       "<style scoped>\n",
       "    .dataframe tbody tr th:only-of-type {\n",
       "        vertical-align: middle;\n",
       "    }\n",
       "\n",
       "    .dataframe tbody tr th {\n",
       "        vertical-align: top;\n",
       "    }\n",
       "\n",
       "    .dataframe thead th {\n",
       "        text-align: right;\n",
       "    }\n",
       "</style>\n",
       "<table border=\"1\" class=\"dataframe\">\n",
       "  <thead>\n",
       "    <tr style=\"text-align: right;\">\n",
       "      <th></th>\n",
       "      <th>id</th>\n",
       "      <th>item_date</th>\n",
       "      <th>quantity tons</th>\n",
       "      <th>customer</th>\n",
       "      <th>country</th>\n",
       "      <th>status</th>\n",
       "      <th>item type</th>\n",
       "      <th>application</th>\n",
       "      <th>thickness</th>\n",
       "      <th>width</th>\n",
       "      <th>material_ref</th>\n",
       "      <th>product_ref</th>\n",
       "      <th>delivery date</th>\n",
       "      <th>selling_price</th>\n",
       "    </tr>\n",
       "  </thead>\n",
       "  <tbody>\n",
       "    <tr>\n",
       "      <th>0</th>\n",
       "      <td>EC06F063-9DF0-440C-8764-0B0C05A4F6AE</td>\n",
       "      <td>20210401.0</td>\n",
       "      <td>54.151139</td>\n",
       "      <td>30156308.0</td>\n",
       "      <td>28.0</td>\n",
       "      <td>Won</td>\n",
       "      <td>W</td>\n",
       "      <td>10.0</td>\n",
       "      <td>2.00</td>\n",
       "      <td>1500.0</td>\n",
       "      <td>DEQ1 S460MC</td>\n",
       "      <td>1670798778</td>\n",
       "      <td>20210701.0</td>\n",
       "      <td>854.00</td>\n",
       "    </tr>\n",
       "    <tr>\n",
       "      <th>1</th>\n",
       "      <td>4E5F4B3D-DDDF-499D-AFDE-A3227EC49425</td>\n",
       "      <td>20210401.0</td>\n",
       "      <td>768.024839</td>\n",
       "      <td>30202938.0</td>\n",
       "      <td>25.0</td>\n",
       "      <td>Won</td>\n",
       "      <td>W</td>\n",
       "      <td>41.0</td>\n",
       "      <td>0.80</td>\n",
       "      <td>1210.0</td>\n",
       "      <td>0000000000000000000000000000000000104991</td>\n",
       "      <td>1668701718</td>\n",
       "      <td>20210401.0</td>\n",
       "      <td>1047.00</td>\n",
       "    </tr>\n",
       "    <tr>\n",
       "      <th>2</th>\n",
       "      <td>E140FF1B-2407-4C02-A0DD-780A093B1158</td>\n",
       "      <td>20210401.0</td>\n",
       "      <td>386.127949</td>\n",
       "      <td>30153963.0</td>\n",
       "      <td>30.0</td>\n",
       "      <td>Won</td>\n",
       "      <td>WI</td>\n",
       "      <td>28.0</td>\n",
       "      <td>0.38</td>\n",
       "      <td>952.0</td>\n",
       "      <td>S0380700</td>\n",
       "      <td>628377</td>\n",
       "      <td>20210101.0</td>\n",
       "      <td>644.33</td>\n",
       "    </tr>\n",
       "    <tr>\n",
       "      <th>3</th>\n",
       "      <td>F8D507A0-9C62-4EFE-831E-33E1DA53BB50</td>\n",
       "      <td>20210401.0</td>\n",
       "      <td>202.411065</td>\n",
       "      <td>30349574.0</td>\n",
       "      <td>32.0</td>\n",
       "      <td>Won</td>\n",
       "      <td>S</td>\n",
       "      <td>59.0</td>\n",
       "      <td>2.30</td>\n",
       "      <td>1317.0</td>\n",
       "      <td>DX51D+ZM310MAO 2.3X1317</td>\n",
       "      <td>1668701718</td>\n",
       "      <td>20210101.0</td>\n",
       "      <td>768.00</td>\n",
       "    </tr>\n",
       "    <tr>\n",
       "      <th>4</th>\n",
       "      <td>4E1C4E78-152B-430A-8094-ADD889C9D0AD</td>\n",
       "      <td>20210401.0</td>\n",
       "      <td>785.526262</td>\n",
       "      <td>30211560.0</td>\n",
       "      <td>28.0</td>\n",
       "      <td>Won</td>\n",
       "      <td>W</td>\n",
       "      <td>10.0</td>\n",
       "      <td>4.00</td>\n",
       "      <td>2000.0</td>\n",
       "      <td>2_S275JR+AR-CL1</td>\n",
       "      <td>640665</td>\n",
       "      <td>20210301.0</td>\n",
       "      <td>577.00</td>\n",
       "    </tr>\n",
       "  </tbody>\n",
       "</table>\n",
       "</div>"
      ],
      "text/plain": [
       "                                     id   item_date quantity tons    customer  \\\n",
       "0  EC06F063-9DF0-440C-8764-0B0C05A4F6AE  20210401.0     54.151139  30156308.0   \n",
       "1  4E5F4B3D-DDDF-499D-AFDE-A3227EC49425  20210401.0    768.024839  30202938.0   \n",
       "2  E140FF1B-2407-4C02-A0DD-780A093B1158  20210401.0    386.127949  30153963.0   \n",
       "3  F8D507A0-9C62-4EFE-831E-33E1DA53BB50  20210401.0    202.411065  30349574.0   \n",
       "4  4E1C4E78-152B-430A-8094-ADD889C9D0AD  20210401.0    785.526262  30211560.0   \n",
       "\n",
       "   country status item type  application  thickness   width  \\\n",
       "0     28.0    Won         W         10.0       2.00  1500.0   \n",
       "1     25.0    Won         W         41.0       0.80  1210.0   \n",
       "2     30.0    Won        WI         28.0       0.38   952.0   \n",
       "3     32.0    Won         S         59.0       2.30  1317.0   \n",
       "4     28.0    Won         W         10.0       4.00  2000.0   \n",
       "\n",
       "                               material_ref  product_ref  delivery date  \\\n",
       "0                               DEQ1 S460MC   1670798778     20210701.0   \n",
       "1  0000000000000000000000000000000000104991   1668701718     20210401.0   \n",
       "2                                  S0380700       628377     20210101.0   \n",
       "3                   DX51D+ZM310MAO 2.3X1317   1668701718     20210101.0   \n",
       "4                           2_S275JR+AR-CL1       640665     20210301.0   \n",
       "\n",
       "   selling_price  \n",
       "0         854.00  \n",
       "1        1047.00  \n",
       "2         644.33  \n",
       "3         768.00  \n",
       "4         577.00  "
      ]
     },
     "execution_count": 3,
     "metadata": {},
     "output_type": "execute_result"
    }
   ],
   "source": [
    "df.head()"
   ]
  },
  {
   "cell_type": "code",
   "execution_count": 4,
   "id": "013446fd",
   "metadata": {},
   "outputs": [
    {
     "data": {
      "text/plain": [
       "(181673, 14)"
      ]
     },
     "execution_count": 4,
     "metadata": {},
     "output_type": "execute_result"
    }
   ],
   "source": [
    "df.shape"
   ]
  },
  {
   "cell_type": "code",
   "execution_count": 5,
   "id": "35b85cdd",
   "metadata": {},
   "outputs": [
    {
     "data": {
      "text/html": [
       "<div>\n",
       "<style scoped>\n",
       "    .dataframe tbody tr th:only-of-type {\n",
       "        vertical-align: middle;\n",
       "    }\n",
       "\n",
       "    .dataframe tbody tr th {\n",
       "        vertical-align: top;\n",
       "    }\n",
       "\n",
       "    .dataframe thead th {\n",
       "        text-align: right;\n",
       "    }\n",
       "</style>\n",
       "<table border=\"1\" class=\"dataframe\">\n",
       "  <thead>\n",
       "    <tr style=\"text-align: right;\">\n",
       "      <th></th>\n",
       "      <th>count</th>\n",
       "      <th>mean</th>\n",
       "      <th>std</th>\n",
       "      <th>min</th>\n",
       "      <th>25%</th>\n",
       "      <th>50%</th>\n",
       "      <th>75%</th>\n",
       "      <th>max</th>\n",
       "    </tr>\n",
       "  </thead>\n",
       "  <tbody>\n",
       "    <tr>\n",
       "      <th>item_date</th>\n",
       "      <td>181672.0</td>\n",
       "      <td>2.020459e+07</td>\n",
       "      <td>4.551119e+03</td>\n",
       "      <td>19950000.00</td>\n",
       "      <td>20200929.0</td>\n",
       "      <td>20201130.0</td>\n",
       "      <td>2.021020e+07</td>\n",
       "      <td>2.021040e+07</td>\n",
       "    </tr>\n",
       "    <tr>\n",
       "      <th>customer</th>\n",
       "      <td>181672.0</td>\n",
       "      <td>3.051221e+07</td>\n",
       "      <td>2.433382e+07</td>\n",
       "      <td>12458.00</td>\n",
       "      <td>30196884.0</td>\n",
       "      <td>30205242.0</td>\n",
       "      <td>3.028042e+07</td>\n",
       "      <td>2.147484e+09</td>\n",
       "    </tr>\n",
       "    <tr>\n",
       "      <th>country</th>\n",
       "      <td>181645.0</td>\n",
       "      <td>4.489302e+01</td>\n",
       "      <td>2.440421e+01</td>\n",
       "      <td>25.00</td>\n",
       "      <td>26.0</td>\n",
       "      <td>30.0</td>\n",
       "      <td>7.800000e+01</td>\n",
       "      <td>1.130000e+02</td>\n",
       "    </tr>\n",
       "    <tr>\n",
       "      <th>application</th>\n",
       "      <td>181649.0</td>\n",
       "      <td>2.561581e+01</td>\n",
       "      <td>1.775417e+01</td>\n",
       "      <td>2.00</td>\n",
       "      <td>10.0</td>\n",
       "      <td>15.0</td>\n",
       "      <td>4.100000e+01</td>\n",
       "      <td>9.900000e+01</td>\n",
       "    </tr>\n",
       "    <tr>\n",
       "      <th>thickness</th>\n",
       "      <td>181672.0</td>\n",
       "      <td>2.564827e+00</td>\n",
       "      <td>6.572321e+00</td>\n",
       "      <td>0.18</td>\n",
       "      <td>0.7</td>\n",
       "      <td>1.5</td>\n",
       "      <td>3.000000e+00</td>\n",
       "      <td>2.500000e+03</td>\n",
       "    </tr>\n",
       "    <tr>\n",
       "      <th>width</th>\n",
       "      <td>181673.0</td>\n",
       "      <td>1.295287e+03</td>\n",
       "      <td>2.616318e+02</td>\n",
       "      <td>1.00</td>\n",
       "      <td>1180.0</td>\n",
       "      <td>1250.0</td>\n",
       "      <td>1.500000e+03</td>\n",
       "      <td>2.990000e+03</td>\n",
       "    </tr>\n",
       "    <tr>\n",
       "      <th>product_ref</th>\n",
       "      <td>181673.0</td>\n",
       "      <td>4.739679e+08</td>\n",
       "      <td>7.175101e+08</td>\n",
       "      <td>611728.00</td>\n",
       "      <td>611993.0</td>\n",
       "      <td>640665.0</td>\n",
       "      <td>1.332077e+09</td>\n",
       "      <td>1.722208e+09</td>\n",
       "    </tr>\n",
       "    <tr>\n",
       "      <th>delivery date</th>\n",
       "      <td>181672.0</td>\n",
       "      <td>2.020738e+07</td>\n",
       "      <td>2.411059e+04</td>\n",
       "      <td>20190401.00</td>\n",
       "      <td>20201101.0</td>\n",
       "      <td>20210101.0</td>\n",
       "      <td>2.021040e+07</td>\n",
       "      <td>3.031010e+07</td>\n",
       "    </tr>\n",
       "    <tr>\n",
       "      <th>selling_price</th>\n",
       "      <td>181672.0</td>\n",
       "      <td>1.918036e+03</td>\n",
       "      <td>3.317956e+05</td>\n",
       "      <td>-1160.00</td>\n",
       "      <td>669.0</td>\n",
       "      <td>812.0</td>\n",
       "      <td>9.530000e+02</td>\n",
       "      <td>1.000010e+08</td>\n",
       "    </tr>\n",
       "  </tbody>\n",
       "</table>\n",
       "</div>"
      ],
      "text/plain": [
       "                  count          mean           std          min         25%  \\\n",
       "item_date      181672.0  2.020459e+07  4.551119e+03  19950000.00  20200929.0   \n",
       "customer       181672.0  3.051221e+07  2.433382e+07     12458.00  30196884.0   \n",
       "country        181645.0  4.489302e+01  2.440421e+01        25.00        26.0   \n",
       "application    181649.0  2.561581e+01  1.775417e+01         2.00        10.0   \n",
       "thickness      181672.0  2.564827e+00  6.572321e+00         0.18         0.7   \n",
       "width          181673.0  1.295287e+03  2.616318e+02         1.00      1180.0   \n",
       "product_ref    181673.0  4.739679e+08  7.175101e+08    611728.00    611993.0   \n",
       "delivery date  181672.0  2.020738e+07  2.411059e+04  20190401.00  20201101.0   \n",
       "selling_price  181672.0  1.918036e+03  3.317956e+05     -1160.00       669.0   \n",
       "\n",
       "                      50%           75%           max  \n",
       "item_date      20201130.0  2.021020e+07  2.021040e+07  \n",
       "customer       30205242.0  3.028042e+07  2.147484e+09  \n",
       "country              30.0  7.800000e+01  1.130000e+02  \n",
       "application          15.0  4.100000e+01  9.900000e+01  \n",
       "thickness             1.5  3.000000e+00  2.500000e+03  \n",
       "width              1250.0  1.500000e+03  2.990000e+03  \n",
       "product_ref      640665.0  1.332077e+09  1.722208e+09  \n",
       "delivery date  20210101.0  2.021040e+07  3.031010e+07  \n",
       "selling_price       812.0  9.530000e+02  1.000010e+08  "
      ]
     },
     "execution_count": 5,
     "metadata": {},
     "output_type": "execute_result"
    }
   ],
   "source": [
    "df.describe().T"
   ]
  },
  {
   "cell_type": "markdown",
   "id": "39f140d1",
   "metadata": {},
   "source": [
    "# Removal of rubbish values that are present in ‘Material_Reference’"
   ]
  },
  {
   "cell_type": "code",
   "execution_count": 6,
   "id": "4482c93f",
   "metadata": {},
   "outputs": [],
   "source": [
    "for i in range(len(df['material_ref'])):\n",
    "    if str(df.at[i,'material_ref']).startswith(\"00000\"):\n",
    "        df.at[i,'material_ref']='NaN'"
   ]
  },
  {
   "cell_type": "code",
   "execution_count": 7,
   "id": "22d64f27",
   "metadata": {},
   "outputs": [
    {
     "data": {
      "text/html": [
       "<div>\n",
       "<style scoped>\n",
       "    .dataframe tbody tr th:only-of-type {\n",
       "        vertical-align: middle;\n",
       "    }\n",
       "\n",
       "    .dataframe tbody tr th {\n",
       "        vertical-align: top;\n",
       "    }\n",
       "\n",
       "    .dataframe thead th {\n",
       "        text-align: right;\n",
       "    }\n",
       "</style>\n",
       "<table border=\"1\" class=\"dataframe\">\n",
       "  <thead>\n",
       "    <tr style=\"text-align: right;\">\n",
       "      <th></th>\n",
       "      <th>id</th>\n",
       "      <th>item_date</th>\n",
       "      <th>quantity tons</th>\n",
       "      <th>customer</th>\n",
       "      <th>country</th>\n",
       "      <th>status</th>\n",
       "      <th>item type</th>\n",
       "      <th>application</th>\n",
       "      <th>thickness</th>\n",
       "      <th>width</th>\n",
       "      <th>material_ref</th>\n",
       "      <th>product_ref</th>\n",
       "      <th>delivery date</th>\n",
       "      <th>selling_price</th>\n",
       "    </tr>\n",
       "  </thead>\n",
       "  <tbody>\n",
       "    <tr>\n",
       "      <th>0</th>\n",
       "      <td>EC06F063-9DF0-440C-8764-0B0C05A4F6AE</td>\n",
       "      <td>20210401.0</td>\n",
       "      <td>54.151139</td>\n",
       "      <td>30156308.0</td>\n",
       "      <td>28.0</td>\n",
       "      <td>Won</td>\n",
       "      <td>W</td>\n",
       "      <td>10.0</td>\n",
       "      <td>2.00</td>\n",
       "      <td>1500.0</td>\n",
       "      <td>DEQ1 S460MC</td>\n",
       "      <td>1670798778</td>\n",
       "      <td>20210701.0</td>\n",
       "      <td>854.00</td>\n",
       "    </tr>\n",
       "    <tr>\n",
       "      <th>1</th>\n",
       "      <td>4E5F4B3D-DDDF-499D-AFDE-A3227EC49425</td>\n",
       "      <td>20210401.0</td>\n",
       "      <td>768.024839</td>\n",
       "      <td>30202938.0</td>\n",
       "      <td>25.0</td>\n",
       "      <td>Won</td>\n",
       "      <td>W</td>\n",
       "      <td>41.0</td>\n",
       "      <td>0.80</td>\n",
       "      <td>1210.0</td>\n",
       "      <td>NaN</td>\n",
       "      <td>1668701718</td>\n",
       "      <td>20210401.0</td>\n",
       "      <td>1047.00</td>\n",
       "    </tr>\n",
       "    <tr>\n",
       "      <th>2</th>\n",
       "      <td>E140FF1B-2407-4C02-A0DD-780A093B1158</td>\n",
       "      <td>20210401.0</td>\n",
       "      <td>386.127949</td>\n",
       "      <td>30153963.0</td>\n",
       "      <td>30.0</td>\n",
       "      <td>Won</td>\n",
       "      <td>WI</td>\n",
       "      <td>28.0</td>\n",
       "      <td>0.38</td>\n",
       "      <td>952.0</td>\n",
       "      <td>S0380700</td>\n",
       "      <td>628377</td>\n",
       "      <td>20210101.0</td>\n",
       "      <td>644.33</td>\n",
       "    </tr>\n",
       "    <tr>\n",
       "      <th>3</th>\n",
       "      <td>F8D507A0-9C62-4EFE-831E-33E1DA53BB50</td>\n",
       "      <td>20210401.0</td>\n",
       "      <td>202.411065</td>\n",
       "      <td>30349574.0</td>\n",
       "      <td>32.0</td>\n",
       "      <td>Won</td>\n",
       "      <td>S</td>\n",
       "      <td>59.0</td>\n",
       "      <td>2.30</td>\n",
       "      <td>1317.0</td>\n",
       "      <td>DX51D+ZM310MAO 2.3X1317</td>\n",
       "      <td>1668701718</td>\n",
       "      <td>20210101.0</td>\n",
       "      <td>768.00</td>\n",
       "    </tr>\n",
       "    <tr>\n",
       "      <th>4</th>\n",
       "      <td>4E1C4E78-152B-430A-8094-ADD889C9D0AD</td>\n",
       "      <td>20210401.0</td>\n",
       "      <td>785.526262</td>\n",
       "      <td>30211560.0</td>\n",
       "      <td>28.0</td>\n",
       "      <td>Won</td>\n",
       "      <td>W</td>\n",
       "      <td>10.0</td>\n",
       "      <td>4.00</td>\n",
       "      <td>2000.0</td>\n",
       "      <td>2_S275JR+AR-CL1</td>\n",
       "      <td>640665</td>\n",
       "      <td>20210301.0</td>\n",
       "      <td>577.00</td>\n",
       "    </tr>\n",
       "  </tbody>\n",
       "</table>\n",
       "</div>"
      ],
      "text/plain": [
       "                                     id   item_date quantity tons    customer  \\\n",
       "0  EC06F063-9DF0-440C-8764-0B0C05A4F6AE  20210401.0     54.151139  30156308.0   \n",
       "1  4E5F4B3D-DDDF-499D-AFDE-A3227EC49425  20210401.0    768.024839  30202938.0   \n",
       "2  E140FF1B-2407-4C02-A0DD-780A093B1158  20210401.0    386.127949  30153963.0   \n",
       "3  F8D507A0-9C62-4EFE-831E-33E1DA53BB50  20210401.0    202.411065  30349574.0   \n",
       "4  4E1C4E78-152B-430A-8094-ADD889C9D0AD  20210401.0    785.526262  30211560.0   \n",
       "\n",
       "   country status item type  application  thickness   width  \\\n",
       "0     28.0    Won         W         10.0       2.00  1500.0   \n",
       "1     25.0    Won         W         41.0       0.80  1210.0   \n",
       "2     30.0    Won        WI         28.0       0.38   952.0   \n",
       "3     32.0    Won         S         59.0       2.30  1317.0   \n",
       "4     28.0    Won         W         10.0       4.00  2000.0   \n",
       "\n",
       "              material_ref  product_ref  delivery date  selling_price  \n",
       "0              DEQ1 S460MC   1670798778     20210701.0         854.00  \n",
       "1                      NaN   1668701718     20210401.0        1047.00  \n",
       "2                 S0380700       628377     20210101.0         644.33  \n",
       "3  DX51D+ZM310MAO 2.3X1317   1668701718     20210101.0         768.00  \n",
       "4          2_S275JR+AR-CL1       640665     20210301.0         577.00  "
      ]
     },
     "execution_count": 7,
     "metadata": {},
     "output_type": "execute_result"
    }
   ],
   "source": [
    "df.head()"
   ]
  },
  {
   "cell_type": "code",
   "execution_count": 8,
   "id": "316c4c6c",
   "metadata": {},
   "outputs": [
    {
     "name": "stdout",
     "output_type": "stream",
     "text": [
      "<class 'pandas.core.frame.DataFrame'>\n",
      "RangeIndex: 181673 entries, 0 to 181672\n",
      "Data columns (total 14 columns):\n",
      " #   Column         Non-Null Count   Dtype  \n",
      "---  ------         --------------   -----  \n",
      " 0   id             181671 non-null  object \n",
      " 1   item_date      181672 non-null  float64\n",
      " 2   quantity tons  181673 non-null  object \n",
      " 3   customer       181672 non-null  float64\n",
      " 4   country        181645 non-null  float64\n",
      " 5   status         181671 non-null  object \n",
      " 6   item type      181673 non-null  object \n",
      " 7   application    181649 non-null  float64\n",
      " 8   thickness      181672 non-null  float64\n",
      " 9   width          181673 non-null  float64\n",
      " 10  material_ref   103754 non-null  object \n",
      " 11  product_ref    181673 non-null  int64  \n",
      " 12  delivery date  181672 non-null  float64\n",
      " 13  selling_price  181672 non-null  float64\n",
      "dtypes: float64(8), int64(1), object(5)\n",
      "memory usage: 19.4+ MB\n"
     ]
    }
   ],
   "source": [
    "df.info()"
   ]
  },
  {
   "cell_type": "code",
   "execution_count": 9,
   "id": "b364ea85",
   "metadata": {},
   "outputs": [],
   "source": [
    "df['item_date'] = pd.to_datetime(df['item_date'],format='%Y%m%d',errors='coerce')"
   ]
  },
  {
   "cell_type": "code",
   "execution_count": 10,
   "id": "9d699ea3",
   "metadata": {},
   "outputs": [],
   "source": [
    "df['quantity tons'] = pd.to_numeric(df['quantity tons'],errors='coerce')"
   ]
  },
  {
   "cell_type": "code",
   "execution_count": 11,
   "id": "3573a52a",
   "metadata": {},
   "outputs": [],
   "source": [
    "df['delivery date'] = pd.to_datetime(df['delivery date'],format='%Y%m%d',errors='coerce')"
   ]
  },
  {
   "cell_type": "code",
   "execution_count": 12,
   "id": "cb6f0c12",
   "metadata": {},
   "outputs": [
    {
     "name": "stdout",
     "output_type": "stream",
     "text": [
      "<class 'pandas.core.frame.DataFrame'>\n",
      "RangeIndex: 181673 entries, 0 to 181672\n",
      "Data columns (total 14 columns):\n",
      " #   Column         Non-Null Count   Dtype         \n",
      "---  ------         --------------   -----         \n",
      " 0   id             181671 non-null  object        \n",
      " 1   item_date      181670 non-null  datetime64[ns]\n",
      " 2   quantity tons  181672 non-null  float64       \n",
      " 3   customer       181672 non-null  float64       \n",
      " 4   country        181645 non-null  float64       \n",
      " 5   status         181671 non-null  object        \n",
      " 6   item type      181673 non-null  object        \n",
      " 7   application    181649 non-null  float64       \n",
      " 8   thickness      181672 non-null  float64       \n",
      " 9   width          181673 non-null  float64       \n",
      " 10  material_ref   103754 non-null  object        \n",
      " 11  product_ref    181673 non-null  int64         \n",
      " 12  delivery date  181670 non-null  datetime64[ns]\n",
      " 13  selling_price  181672 non-null  float64       \n",
      "dtypes: datetime64[ns](2), float64(7), int64(1), object(4)\n",
      "memory usage: 19.4+ MB\n"
     ]
    }
   ],
   "source": [
    "df.info()"
   ]
  },
  {
   "cell_type": "markdown",
   "id": "a6669b8e",
   "metadata": {},
   "source": [
    "# Checking for null values"
   ]
  },
  {
   "cell_type": "code",
   "execution_count": 13,
   "id": "1be98b9c",
   "metadata": {},
   "outputs": [
    {
     "data": {
      "text/plain": [
       "id                   2\n",
       "item_date            3\n",
       "quantity tons        1\n",
       "customer             1\n",
       "country             28\n",
       "status               2\n",
       "item type            0\n",
       "application         24\n",
       "thickness            1\n",
       "width                0\n",
       "material_ref     77919\n",
       "product_ref          0\n",
       "delivery date        3\n",
       "selling_price        1\n",
       "dtype: int64"
      ]
     },
     "execution_count": 13,
     "metadata": {},
     "output_type": "execute_result"
    }
   ],
   "source": [
    "df.isnull().sum()"
   ]
  },
  {
   "cell_type": "markdown",
   "id": "d00bd74a",
   "metadata": {},
   "source": [
    "#  If the number of missing values is very large then it can be replaced with a new category"
   ]
  },
  {
   "cell_type": "code",
   "execution_count": 14,
   "id": "d6394439",
   "metadata": {},
   "outputs": [],
   "source": [
    "df['material_ref'].fillna('Unknown', inplace=True)"
   ]
  },
  {
   "cell_type": "markdown",
   "id": "a83a166c",
   "metadata": {},
   "source": [
    "# Getting the country number for which the id's are null and their indexes."
   ]
  },
  {
   "cell_type": "code",
   "execution_count": 15,
   "id": "a7f451ab",
   "metadata": {},
   "outputs": [
    {
     "name": "stdout",
     "output_type": "stream",
     "text": [
      "[28.0, 27.0]\n",
      "[26, 104566]\n"
     ]
    }
   ],
   "source": [
    "#country number\n",
    "l=list(df.iloc[df.loc[df['id'].isna()].index,4])\n",
    "#indexes\n",
    "ind=list(df.loc[df['id'].isna()].index)\n",
    "print(l)\n",
    "print(ind)"
   ]
  },
  {
   "cell_type": "markdown",
   "id": "5a9766d3",
   "metadata": {},
   "source": [
    "# Imputation for id's by assigning the mode of id of that particular country which has null value."
   ]
  },
  {
   "cell_type": "code",
   "execution_count": 16,
   "id": "eca7cb8a",
   "metadata": {},
   "outputs": [],
   "source": [
    "for i,j in zip(l,ind):\n",
    "    ids=df.loc[df.loc[df['country']==i].index,'id']\n",
    "    impute_value=ids.mode()[0]\n",
    "    df.at[j,'id']=impute_value\n",
    "    "
   ]
  },
  {
   "cell_type": "markdown",
   "id": "daa530b7",
   "metadata": {},
   "source": [
    "# Getting the country number for which the item_date's are null and their indexes."
   ]
  },
  {
   "cell_type": "code",
   "execution_count": 17,
   "id": "15679679",
   "metadata": {},
   "outputs": [
    {
     "name": "stdout",
     "output_type": "stream",
     "text": [
      "[77.0, 80.0, 26.0]\n",
      "[52, 104640, 105485]\n"
     ]
    }
   ],
   "source": [
    "l=list(df.iloc[df.loc[df['item_date'].isna()].index,4])\n",
    "#indexes\n",
    "ind=list(df.loc[df['item_date'].isna()].index)\n",
    "print(l)\n",
    "print(ind)"
   ]
  },
  {
   "cell_type": "markdown",
   "id": "4df5c73a",
   "metadata": {},
   "source": [
    "# Imputation for item_date by assigning the mode of item_date of that particular country which has null value."
   ]
  },
  {
   "cell_type": "code",
   "execution_count": 18,
   "id": "3ef9aa2d",
   "metadata": {},
   "outputs": [],
   "source": [
    "for i,j in zip(l,ind):\n",
    "    dates=df.loc[df.loc[df['country']==i].index,'item_date']\n",
    "    impute_value=dates.mode()[0]\n",
    "    df.at[j,'item_date']=impute_value"
   ]
  },
  {
   "cell_type": "markdown",
   "id": "67d26219",
   "metadata": {},
   "source": [
    "# Imputation of quantity tons by taking its mean."
   ]
  },
  {
   "cell_type": "code",
   "execution_count": 19,
   "id": "9333bf2f",
   "metadata": {},
   "outputs": [],
   "source": [
    "#index\n",
    "ind=df.loc[df['quantity tons'].isna()].index\n",
    "#finding the mean value\n",
    "impute_value=df['quantity tons'].mean()\n",
    "df.at[ind[0],'quantity tons']=impute_value"
   ]
  },
  {
   "cell_type": "markdown",
   "id": "43ec9c40",
   "metadata": {},
   "source": [
    "# Getting the country number for which the customer is null and its index"
   ]
  },
  {
   "cell_type": "code",
   "execution_count": 20,
   "id": "80924f1c",
   "metadata": {},
   "outputs": [],
   "source": [
    "coun = list(df.iloc[df.loc[df['customer'].isna()].index,4])\n",
    "ind = df.loc[df['customer'].isna()].index"
   ]
  },
  {
   "cell_type": "code",
   "execution_count": 25,
   "id": "d5f2dfa6",
   "metadata": {},
   "outputs": [
    {
     "data": {
      "text/plain": [
       "104684"
      ]
     },
     "execution_count": 25,
     "metadata": {},
     "output_type": "execute_result"
    }
   ],
   "source": [
    "ind[0]"
   ]
  },
  {
   "cell_type": "markdown",
   "id": "3a3abb22",
   "metadata": {},
   "source": [
    "# Imputation for customer by assigning the mode of customer of that particular country which has null value."
   ]
  },
  {
   "cell_type": "code",
   "execution_count": 22,
   "id": "184041a3",
   "metadata": {},
   "outputs": [],
   "source": [
    "cust = df.loc[df.loc[df['country']==coun[0]].index,'customer']\n",
    "impute_value=cust.mode()[0]\n",
    "df.at[ind[0],'customer']=impute_value"
   ]
  },
  {
   "cell_type": "code",
   "execution_count": 31,
   "id": "6734586b",
   "metadata": {},
   "outputs": [],
   "source": [
    "df.dropna(inplace=True)"
   ]
  },
  {
   "cell_type": "code",
   "execution_count": 32,
   "id": "61bb8210",
   "metadata": {},
   "outputs": [
    {
     "data": {
      "text/plain": [
       "id               0\n",
       "item_date        0\n",
       "quantity tons    0\n",
       "customer         0\n",
       "country          0\n",
       "status           0\n",
       "item type        0\n",
       "application      0\n",
       "thickness        0\n",
       "width            0\n",
       "material_ref     0\n",
       "product_ref      0\n",
       "delivery date    0\n",
       "selling_price    0\n",
       "dtype: int64"
      ]
     },
     "execution_count": 32,
     "metadata": {},
     "output_type": "execute_result"
    }
   ],
   "source": [
    "df.isnull().sum()"
   ]
  },
  {
   "cell_type": "markdown",
   "id": "5c7e303e",
   "metadata": {},
   "source": [
    "# Separating continuos variables into seperate dataframe for finding skewness"
   ]
  },
  {
   "cell_type": "code",
   "execution_count": 35,
   "id": "10e0882f",
   "metadata": {},
   "outputs": [],
   "source": [
    "df1=pd.DataFrame()"
   ]
  },
  {
   "cell_type": "code",
   "execution_count": 36,
   "id": "5c7a0e1d",
   "metadata": {},
   "outputs": [],
   "source": [
    "df1['quantity tons']=df['quantity tons']\n",
    "df1['thickness']=df['thickness']\n",
    "df1['width']=df['width']\n",
    "df1['selling_price']=df['selling_price']"
   ]
  },
  {
   "cell_type": "code",
   "execution_count": 37,
   "id": "17f31027",
   "metadata": {},
   "outputs": [
    {
     "data": {
      "text/html": [
       "<div>\n",
       "<style scoped>\n",
       "    .dataframe tbody tr th:only-of-type {\n",
       "        vertical-align: middle;\n",
       "    }\n",
       "\n",
       "    .dataframe tbody tr th {\n",
       "        vertical-align: top;\n",
       "    }\n",
       "\n",
       "    .dataframe thead th {\n",
       "        text-align: right;\n",
       "    }\n",
       "</style>\n",
       "<table border=\"1\" class=\"dataframe\">\n",
       "  <thead>\n",
       "    <tr style=\"text-align: right;\">\n",
       "      <th></th>\n",
       "      <th>quantity tons</th>\n",
       "      <th>thickness</th>\n",
       "      <th>width</th>\n",
       "      <th>selling_price</th>\n",
       "    </tr>\n",
       "  </thead>\n",
       "  <tbody>\n",
       "    <tr>\n",
       "      <th>0</th>\n",
       "      <td>54.151139</td>\n",
       "      <td>2.00</td>\n",
       "      <td>1500.0</td>\n",
       "      <td>854.00</td>\n",
       "    </tr>\n",
       "    <tr>\n",
       "      <th>1</th>\n",
       "      <td>768.024839</td>\n",
       "      <td>0.80</td>\n",
       "      <td>1210.0</td>\n",
       "      <td>1047.00</td>\n",
       "    </tr>\n",
       "    <tr>\n",
       "      <th>2</th>\n",
       "      <td>386.127949</td>\n",
       "      <td>0.38</td>\n",
       "      <td>952.0</td>\n",
       "      <td>644.33</td>\n",
       "    </tr>\n",
       "    <tr>\n",
       "      <th>3</th>\n",
       "      <td>202.411065</td>\n",
       "      <td>2.30</td>\n",
       "      <td>1317.0</td>\n",
       "      <td>768.00</td>\n",
       "    </tr>\n",
       "    <tr>\n",
       "      <th>4</th>\n",
       "      <td>785.526262</td>\n",
       "      <td>4.00</td>\n",
       "      <td>2000.0</td>\n",
       "      <td>577.00</td>\n",
       "    </tr>\n",
       "  </tbody>\n",
       "</table>\n",
       "</div>"
      ],
      "text/plain": [
       "   quantity tons  thickness   width  selling_price\n",
       "0      54.151139       2.00  1500.0         854.00\n",
       "1     768.024839       0.80  1210.0        1047.00\n",
       "2     386.127949       0.38   952.0         644.33\n",
       "3     202.411065       2.30  1317.0         768.00\n",
       "4     785.526262       4.00  2000.0         577.00"
      ]
     },
     "execution_count": 37,
     "metadata": {},
     "output_type": "execute_result"
    }
   ],
   "source": [
    "df1.head()"
   ]
  },
  {
   "cell_type": "code",
   "execution_count": 39,
   "id": "a4a24755",
   "metadata": {},
   "outputs": [
    {
     "data": {
      "text/plain": [
       "quantity tons    424.649905\n",
       "thickness        303.476674\n",
       "width              0.374850\n",
       "selling_price    301.359055\n",
       "dtype: float64"
      ]
     },
     "execution_count": 39,
     "metadata": {},
     "output_type": "execute_result"
    }
   ],
   "source": [
    "df1.skew()"
   ]
  },
  {
   "cell_type": "code",
   "execution_count": 38,
   "id": "55842690",
   "metadata": {},
   "outputs": [
    {
     "data": {
      "image/png": "[encoded data removed]",
      "text/plain": [
       "<Figure size 1300x1300 with 12 Axes>"
      ]
     },
     "metadata": {},
     "output_type": "display_data"
    }
   ],
   "source": [
    "df.hist(figsize = (13,13), color = 'skyblue')\n",
    "plt.show()"
   ]
  },
  {
   "cell_type": "code",
   "execution_count": 22,
   "id": "e0b27a44",
   "metadata": {},
   "outputs": [
    {
     "data": {
      "text/plain": [
       "<AxesSubplot:xlabel='quantity tons', ylabel='Density'>"
      ]
     },
     "execution_count": 22,
     "metadata": {},
     "output_type": "execute_result"
    },
    {
     "data": {
      "image/png": "[encoded data removed]",
      "text/plain": [
       "<Figure size 640x480 with 1 Axes>"
      ]
     },
     "metadata": {},
     "output_type": "display_data"
    }
   ],
   "source": [
    "sns.distplot(df['quantity tons'] , color=\"skyblue\")"
   ]
  },
  {
   "cell_type": "code",
   "execution_count": 40,
   "id": "487f644a",
   "metadata": {},
   "outputs": [
    {
     "data": {
      "text/plain": [
       "<AxesSubplot:xlabel='thickness', ylabel='Density'>"
      ]
     },
     "execution_count": 40,
     "metadata": {},
     "output_type": "execute_result"
    },
    {
     "data": {
      "image/png": "[encoded data removed]",
      "text/plain": [
       "<Figure size 640x480 with 1 Axes>"
      ]
     },
     "metadata": {},
     "output_type": "display_data"
    }
   ],
   "source": [
    "sns.distplot(df['thickness'] , color=\"skyblue\")"
   ]
  },
  {
   "cell_type": "code",
   "execution_count": 41,
   "id": "65c146ca",
   "metadata": {},
   "outputs": [
    {
     "data": {
      "text/plain": [
       "<AxesSubplot:xlabel='selling_price', ylabel='Density'>"
      ]
     },
     "execution_count": 41,
     "metadata": {},
     "output_type": "execute_result"
    },
    {
     "data": {
      "image/png": "[encoded data removed]",
      "text/plain": [
       "<Figure size 640x480 with 1 Axes>"
      ]
     },
     "metadata": {},
     "output_type": "display_data"
    }
   ],
   "source": [
    "sns.distplot(df['selling_price'] , color=\"skyblue\")"
   ]
  },
  {
   "cell_type": "code",
   "execution_count": null,
   "id": "ebcc0f14",
   "metadata": {},
   "outputs": [],
   "source": []
  }
 ],
 "metadata": {
  "kernelspec": {
   "display_name": "Python 3 (ipykernel)",
   "language": "python",
   "name": "python3"
  },
  "language_info": {
   "codemirror_mode": {
    "name": "ipython",
    "version": 3
   },
   "file_extension": ".py",
   "mimetype": "text/x-python",
   "name": "python",
   "nbconvert_exporter": "python",
   "pygments_lexer": "ipython3",
   "version": "3.9.13"
  }
 },
 "nbformat": 4,
 "nbformat_minor": 5
}
